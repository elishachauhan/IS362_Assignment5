{
 "cells": [
  {
   "cell_type": "markdown",
   "metadata": {},
   "source": [
    "# Movie Ratings\n",
    "\n",
    "## Average, Normalized & Standardized"
   ]
  },
  {
   "cell_type": "markdown",
   "metadata": {},
   "source": [
    "### Task:\n",
    "\n",
    "Choose six recent popular movies. Ask at least five people that you know (friends, family, classmates, imaginary friends) to rate each of these movies that they have seen on a scale of 1 to 5. There should be at least one movie that not everyone has seen!\n",
    "Take the results (observations) and store them somewhere (like a SQL database, or a .CSV file). Load the information into a pandas dataframe. Your solution should include Python and pandas code that accomplishes the following:\n",
    "1. Load the ratings by user information that you collected into a pandas dataframe.\n",
    "2. Show the average ratings for each user and each movie.\n",
    "3. Create a new pandas dataframe, with normalized ratings for each user. Again, show the average ratings for each user and each movie.\n",
    "4. Provide a text-based conclusion: explain what might be advantages and disadvantages of using normalized ratings instead of the actual ratings.\n",
    "5. [Extra credit] Create another new pandas dataframe, with standardized ratings for each user. Once again, show the average ratings for each user and each movie."
   ]
  },
  {
   "cell_type": "code",
   "execution_count": 3,
   "metadata": {
    "collapsed": true
   },
   "outputs": [],
   "source": [
    "import pandas as pd\n",
    "import numpy as np"
   ]
  },
  {
   "cell_type": "markdown",
   "metadata": {},
   "source": [
    "##### Load ratings in a Pandas dataframe:"
   ]
  },
  {
   "cell_type": "code",
   "execution_count": 4,
   "metadata": {
    "collapsed": false
   },
   "outputs": [],
   "source": [
    "movie_ratings = pd.read_csv(r'C:\\Users\\DJEli112\\Desktop\\CUNY SPS\\Spring 2017\\IS 362\\MovieRatings.csv', index_col=0)"
   ]
  },
  {
   "cell_type": "markdown",
   "metadata": {},
   "source": [
    "###### Use .head() to see the first five rows of ratings table:"
   ]
  },
  {
   "cell_type": "code",
   "execution_count": 5,
   "metadata": {
    "collapsed": false
   },
   "outputs": [
    {
     "data": {
      "text/html": [
       "<div>\n",
       "<table border=\"1\" class=\"dataframe\">\n",
       "  <thead>\n",
       "    <tr style=\"text-align: right;\">\n",
       "      <th></th>\n",
       "      <th>Logan</th>\n",
       "      <th>Get Out</th>\n",
       "      <th>Beauty and the Beast</th>\n",
       "      <th>The Lego Batman Movie</th>\n",
       "      <th>Fifty Shades Darker</th>\n",
       "      <th>Kong: Skull Island</th>\n",
       "    </tr>\n",
       "  </thead>\n",
       "  <tbody>\n",
       "    <tr>\n",
       "      <th>Elene</th>\n",
       "      <td>4.0</td>\n",
       "      <td>NaN</td>\n",
       "      <td>5.0</td>\n",
       "      <td>4.0</td>\n",
       "      <td>2.0</td>\n",
       "      <td>1.0</td>\n",
       "    </tr>\n",
       "    <tr>\n",
       "      <th>Ximena</th>\n",
       "      <td>NaN</td>\n",
       "      <td>4.0</td>\n",
       "      <td>4.0</td>\n",
       "      <td>5.0</td>\n",
       "      <td>3.0</td>\n",
       "      <td>NaN</td>\n",
       "    </tr>\n",
       "    <tr>\n",
       "      <th>Jess</th>\n",
       "      <td>4.0</td>\n",
       "      <td>NaN</td>\n",
       "      <td>4.0</td>\n",
       "      <td>4.0</td>\n",
       "      <td>NaN</td>\n",
       "      <td>4.0</td>\n",
       "    </tr>\n",
       "    <tr>\n",
       "      <th>Rebecca</th>\n",
       "      <td>5.0</td>\n",
       "      <td>2.0</td>\n",
       "      <td>NaN</td>\n",
       "      <td>3.0</td>\n",
       "      <td>3.0</td>\n",
       "      <td>3.0</td>\n",
       "    </tr>\n",
       "    <tr>\n",
       "      <th>Hillary</th>\n",
       "      <td>NaN</td>\n",
       "      <td>2.0</td>\n",
       "      <td>3.0</td>\n",
       "      <td>NaN</td>\n",
       "      <td>2.0</td>\n",
       "      <td>2.0</td>\n",
       "    </tr>\n",
       "  </tbody>\n",
       "</table>\n",
       "</div>"
      ],
      "text/plain": [
       "         Logan  Get Out  Beauty and the Beast  The Lego Batman Movie  \\\n",
       "Elene      4.0      NaN                   5.0                    4.0   \n",
       "Ximena     NaN      4.0                   4.0                    5.0   \n",
       "Jess       4.0      NaN                   4.0                    4.0   \n",
       "Rebecca    5.0      2.0                   NaN                    3.0   \n",
       "Hillary    NaN      2.0                   3.0                    NaN   \n",
       "\n",
       "         Fifty Shades Darker  Kong: Skull Island  \n",
       "Elene                    2.0                 1.0  \n",
       "Ximena                   3.0                 NaN  \n",
       "Jess                     NaN                 4.0  \n",
       "Rebecca                  3.0                 3.0  \n",
       "Hillary                  2.0                 2.0  "
      ]
     },
     "execution_count": 5,
     "metadata": {},
     "output_type": "execute_result"
    }
   ],
   "source": [
    "movie_ratings.head()"
   ]
  },
  {
   "cell_type": "markdown",
   "metadata": {},
   "source": [
    "### Average Ratings"
   ]
  },
  {
   "cell_type": "markdown",
   "metadata": {},
   "source": [
    "##### Show average ratings for each movie:"
   ]
  },
  {
   "cell_type": "code",
   "execution_count": 22,
   "metadata": {
    "collapsed": false
   },
   "outputs": [
    {
     "data": {
      "text/plain": [
       "Logan                    4.333333\n",
       "Get Out                  2.666667\n",
       "Beauty and the Beast     4.000000\n",
       "The Lego Batman Movie    4.000000\n",
       "Fifty Shades Darker      2.500000\n",
       "Kong: Skull Island       2.500000\n",
       "dtype: float64"
      ]
     },
     "execution_count": 22,
     "metadata": {},
     "output_type": "execute_result"
    }
   ],
   "source": [
    "avg_movie_ratings = movie_ratings.mean()\n",
    "avg_movie_ratings"
   ]
  },
  {
   "cell_type": "markdown",
   "metadata": {},
   "source": [
    "##### Show average ratings for each user:"
   ]
  },
  {
   "cell_type": "code",
   "execution_count": 33,
   "metadata": {
    "collapsed": false
   },
   "outputs": [
    {
     "data": {
      "text/plain": [
       "Elene      3.20\n",
       "Ximena     4.00\n",
       "Jess       4.00\n",
       "Rebecca    3.20\n",
       "Hillary    2.25\n",
       "dtype: float64"
      ]
     },
     "execution_count": 33,
     "metadata": {},
     "output_type": "execute_result"
    }
   ],
   "source": [
    "avg_user_ratings = movie_ratings.mean(axis=1)\n",
    "avg_user_ratings"
   ]
  },
  {
   "cell_type": "markdown",
   "metadata": {},
   "source": [
    "### Normalized Ratings"
   ]
  },
  {
   "cell_type": "markdown",
   "metadata": {},
   "source": [
    "##### Use normalization formula and view new values in a pandas dataframe:"
   ]
  },
  {
   "cell_type": "code",
   "execution_count": 28,
   "metadata": {
    "collapsed": false
   },
   "outputs": [
    {
     "data": {
      "text/html": [
       "<div>\n",
       "<table border=\"1\" class=\"dataframe\">\n",
       "  <thead>\n",
       "    <tr style=\"text-align: right;\">\n",
       "      <th></th>\n",
       "      <th>Logan</th>\n",
       "      <th>Get Out</th>\n",
       "      <th>Beauty and the Beast</th>\n",
       "      <th>The Lego Batman Movie</th>\n",
       "      <th>Fifty Shades Darker</th>\n",
       "      <th>Kong: Skull Island</th>\n",
       "    </tr>\n",
       "  </thead>\n",
       "  <tbody>\n",
       "    <tr>\n",
       "      <th>Elene</th>\n",
       "      <td>0.0</td>\n",
       "      <td>NaN</td>\n",
       "      <td>1.0</td>\n",
       "      <td>0.5</td>\n",
       "      <td>0.0</td>\n",
       "      <td>0.000000</td>\n",
       "    </tr>\n",
       "    <tr>\n",
       "      <th>Ximena</th>\n",
       "      <td>NaN</td>\n",
       "      <td>1.0</td>\n",
       "      <td>0.5</td>\n",
       "      <td>1.0</td>\n",
       "      <td>1.0</td>\n",
       "      <td>NaN</td>\n",
       "    </tr>\n",
       "    <tr>\n",
       "      <th>Jess</th>\n",
       "      <td>0.0</td>\n",
       "      <td>NaN</td>\n",
       "      <td>0.5</td>\n",
       "      <td>0.5</td>\n",
       "      <td>NaN</td>\n",
       "      <td>1.000000</td>\n",
       "    </tr>\n",
       "    <tr>\n",
       "      <th>Rebecca</th>\n",
       "      <td>1.0</td>\n",
       "      <td>0.0</td>\n",
       "      <td>NaN</td>\n",
       "      <td>0.0</td>\n",
       "      <td>1.0</td>\n",
       "      <td>0.666667</td>\n",
       "    </tr>\n",
       "    <tr>\n",
       "      <th>Hillary</th>\n",
       "      <td>NaN</td>\n",
       "      <td>0.0</td>\n",
       "      <td>0.0</td>\n",
       "      <td>NaN</td>\n",
       "      <td>0.0</td>\n",
       "      <td>0.333333</td>\n",
       "    </tr>\n",
       "  </tbody>\n",
       "</table>\n",
       "</div>"
      ],
      "text/plain": [
       "         Logan  Get Out  Beauty and the Beast  The Lego Batman Movie  \\\n",
       "Elene      0.0      NaN                   1.0                    0.5   \n",
       "Ximena     NaN      1.0                   0.5                    1.0   \n",
       "Jess       0.0      NaN                   0.5                    0.5   \n",
       "Rebecca    1.0      0.0                   NaN                    0.0   \n",
       "Hillary    NaN      0.0                   0.0                    NaN   \n",
       "\n",
       "         Fifty Shades Darker  Kong: Skull Island  \n",
       "Elene                    0.0            0.000000  \n",
       "Ximena                   1.0                 NaN  \n",
       "Jess                     NaN            1.000000  \n",
       "Rebecca                  1.0            0.666667  \n",
       "Hillary                  0.0            0.333333  "
      ]
     },
     "execution_count": 28,
     "metadata": {},
     "output_type": "execute_result"
    }
   ],
   "source": [
    "normalized_ratings = (movie_ratings - movie_ratings.min()) / (movie_ratings.max() - movie_ratings.min())\n",
    "normalized_ratings"
   ]
  },
  {
   "cell_type": "markdown",
   "metadata": {},
   "source": [
    "###### Show average normalized ratings for each movie:"
   ]
  },
  {
   "cell_type": "code",
   "execution_count": 29,
   "metadata": {
    "collapsed": false
   },
   "outputs": [
    {
     "data": {
      "text/plain": [
       "Logan                    0.333333\n",
       "Get Out                  0.333333\n",
       "Beauty and the Beast     0.500000\n",
       "The Lego Batman Movie    0.500000\n",
       "Fifty Shades Darker      0.500000\n",
       "Kong: Skull Island       0.500000\n",
       "dtype: float64"
      ]
     },
     "execution_count": 29,
     "metadata": {},
     "output_type": "execute_result"
    }
   ],
   "source": [
    "avg_normalized_movie_ratings = normalized_ratings.mean()\n",
    "avg_normalized_movie_ratings"
   ]
  },
  {
   "cell_type": "markdown",
   "metadata": {},
   "source": [
    "##### Show average normalized ratings for each user:"
   ]
  },
  {
   "cell_type": "code",
   "execution_count": 30,
   "metadata": {
    "collapsed": false
   },
   "outputs": [
    {
     "data": {
      "text/plain": [
       "Elene      0.300000\n",
       "Ximena     0.875000\n",
       "Jess       0.500000\n",
       "Rebecca    0.533333\n",
       "Hillary    0.083333\n",
       "dtype: float64"
      ]
     },
     "execution_count": 30,
     "metadata": {},
     "output_type": "execute_result"
    }
   ],
   "source": [
    "avg_normalized_user_ratings = normalized_ratings.mean(axis=1)\n",
    "avg_normalized_user_ratings"
   ]
  },
  {
   "cell_type": "markdown",
   "metadata": {},
   "source": [
    "### Standardized Ratings"
   ]
  },
  {
   "cell_type": "markdown",
   "metadata": {},
   "source": [
    "##### Use stantardization formula and view new values in a pandas dataframe:"
   ]
  },
  {
   "cell_type": "code",
   "execution_count": 24,
   "metadata": {
    "collapsed": false
   },
   "outputs": [
    {
     "data": {
      "text/html": [
       "<div>\n",
       "<table border=\"1\" class=\"dataframe\">\n",
       "  <thead>\n",
       "    <tr style=\"text-align: right;\">\n",
       "      <th></th>\n",
       "      <th>Logan</th>\n",
       "      <th>Get Out</th>\n",
       "      <th>Beauty and the Beast</th>\n",
       "      <th>The Lego Batman Movie</th>\n",
       "      <th>Fifty Shades Darker</th>\n",
       "      <th>Kong: Skull Island</th>\n",
       "    </tr>\n",
       "  </thead>\n",
       "  <tbody>\n",
       "    <tr>\n",
       "      <th>Elene</th>\n",
       "      <td>-0.577350</td>\n",
       "      <td>NaN</td>\n",
       "      <td>1.224745</td>\n",
       "      <td>0.000000</td>\n",
       "      <td>-0.866025</td>\n",
       "      <td>-1.161895</td>\n",
       "    </tr>\n",
       "    <tr>\n",
       "      <th>Ximena</th>\n",
       "      <td>NaN</td>\n",
       "      <td>1.154701</td>\n",
       "      <td>0.000000</td>\n",
       "      <td>1.224745</td>\n",
       "      <td>0.866025</td>\n",
       "      <td>NaN</td>\n",
       "    </tr>\n",
       "    <tr>\n",
       "      <th>Jess</th>\n",
       "      <td>-0.577350</td>\n",
       "      <td>NaN</td>\n",
       "      <td>0.000000</td>\n",
       "      <td>0.000000</td>\n",
       "      <td>NaN</td>\n",
       "      <td>1.161895</td>\n",
       "    </tr>\n",
       "    <tr>\n",
       "      <th>Rebecca</th>\n",
       "      <td>1.154701</td>\n",
       "      <td>-0.577350</td>\n",
       "      <td>NaN</td>\n",
       "      <td>-1.224745</td>\n",
       "      <td>0.866025</td>\n",
       "      <td>0.387298</td>\n",
       "    </tr>\n",
       "    <tr>\n",
       "      <th>Hillary</th>\n",
       "      <td>NaN</td>\n",
       "      <td>-0.577350</td>\n",
       "      <td>-1.224745</td>\n",
       "      <td>NaN</td>\n",
       "      <td>-0.866025</td>\n",
       "      <td>-0.387298</td>\n",
       "    </tr>\n",
       "  </tbody>\n",
       "</table>\n",
       "</div>"
      ],
      "text/plain": [
       "            Logan   Get Out  Beauty and the Beast  The Lego Batman Movie  \\\n",
       "Elene   -0.577350       NaN              1.224745               0.000000   \n",
       "Ximena        NaN  1.154701              0.000000               1.224745   \n",
       "Jess    -0.577350       NaN              0.000000               0.000000   \n",
       "Rebecca  1.154701 -0.577350                   NaN              -1.224745   \n",
       "Hillary       NaN -0.577350             -1.224745                    NaN   \n",
       "\n",
       "         Fifty Shades Darker  Kong: Skull Island  \n",
       "Elene              -0.866025           -1.161895  \n",
       "Ximena              0.866025                 NaN  \n",
       "Jess                     NaN            1.161895  \n",
       "Rebecca             0.866025            0.387298  \n",
       "Hillary            -0.866025           -0.387298  "
      ]
     },
     "execution_count": 24,
     "metadata": {},
     "output_type": "execute_result"
    }
   ],
   "source": [
    "standardized_ratings = (movie_ratings-movie_ratings.mean()) / movie_ratings.std()\n",
    "standardized_ratings"
   ]
  },
  {
   "cell_type": "markdown",
   "metadata": {},
   "source": [
    "##### Show average standardized ratings for each movie:"
   ]
  },
  {
   "cell_type": "code",
   "execution_count": 26,
   "metadata": {
    "collapsed": false
   },
   "outputs": [
    {
     "data": {
      "text/plain": [
       "Logan                    5.181041e-16\n",
       "Get Out                  1.480297e-16\n",
       "Beauty and the Beast     0.000000e+00\n",
       "The Lego Batman Movie    0.000000e+00\n",
       "Fifty Shades Darker      0.000000e+00\n",
       "Kong: Skull Island       0.000000e+00\n",
       "dtype: float64"
      ]
     },
     "execution_count": 26,
     "metadata": {},
     "output_type": "execute_result"
    }
   ],
   "source": [
    "avg_standardized_movie_ratings = standardized_ratings.mean()\n",
    "avg_standardized_movie_ratings"
   ]
  },
  {
   "cell_type": "markdown",
   "metadata": {},
   "source": [
    "##### Show average standardized ratings for each user:"
   ]
  },
  {
   "cell_type": "code",
   "execution_count": 27,
   "metadata": {
    "collapsed": false
   },
   "outputs": [
    {
     "data": {
      "text/plain": [
       "Elene     -0.276105\n",
       "Ximena     0.811368\n",
       "Jess       0.146136\n",
       "Rebecca    0.121186\n",
       "Hillary   -0.763855\n",
       "dtype: float64"
      ]
     },
     "execution_count": 27,
     "metadata": {},
     "output_type": "execute_result"
    }
   ],
   "source": [
    "avg_standardized_user_ratings = standardized_ratings.mean(axis=1)\n",
    "avg_standardized_user_ratings"
   ]
  },
  {
   "cell_type": "markdown",
   "metadata": {},
   "source": [
    "### Final Analysis:"
   ]
  },
  {
   "cell_type": "markdown",
   "metadata": {},
   "source": [
    "Websites, such as IMDB and Rotten Tomatoes, compile similar data in which people rate upcoming movies and TV shows. In this case, normalized ratings and standardarized ratings provide different approaches in displaying the movie dataset. Although normalized ratings are difficult to comprehend at first, they have a multitude of advantages in relation to movie ratings. First, someone may want to update this dataset and add more people or movies on it to collect more data. Normalizing the ratings will remove any indication of data duplication in a large data set. Addtionally, normalizing the data can be grouped by the movie title and by user easily. Disdvantages may include interpreting the normalized ratings and analyzing what these numbers mean in the given context. Since the normalized ratings scale the ratings from 0 to 1, it may not accurately depict movie ratings by title or by user at first glance. As stated in the Learning pandas text, the data can be plotted against a graph to compare the normalized ratings and standard ratings to further analyze and draw a conclusion. Overall, standard ratings and normalized ratings are pertintent in describing a user's movie rating. It is up to a data scientist to figure out how to analyze ratings for each movie by utilizing average, normalization, and standardization. "
   ]
  }
 ],
 "metadata": {
  "kernelspec": {
   "display_name": "Python 3",
   "language": "python",
   "name": "python3"
  },
  "language_info": {
   "codemirror_mode": {
    "name": "ipython",
    "version": 3
   },
   "file_extension": ".py",
   "mimetype": "text/x-python",
   "name": "python",
   "nbconvert_exporter": "python",
   "pygments_lexer": "ipython3",
   "version": "3.6.0"
  }
 },
 "nbformat": 4,
 "nbformat_minor": 2
}
